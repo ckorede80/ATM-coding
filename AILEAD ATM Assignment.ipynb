{
 "cells": [
  {
   "cell_type": "code",
   "execution_count": null,
   "id": "49307f90",
   "metadata": {},
   "outputs": [
    {
     "name": "stdout",
     "output_type": "stream",
     "text": [
      "\n",
      "Welcome to the Ailead ATM\n",
      "Please enter your four digit pin: 1234\n",
      "what do you want to do\n",
      " Enter 1 to Widthdraw Cash \n",
      " Enter 2 for Balance Enquiry \n",
      " Enter 3 to Quit \n",
      " Enter 4 to Deposit\n",
      "Enter the number corresponding to the activity you want to do: 4\n",
      "Enter the amount of money you want to Deposit200\n",
      "200 Dollars successfully Deposit your new balance is 1200 Dollars\n",
      "\n",
      "what do you want to do\n",
      " Enter 1 to Widthdraw Cash \n",
      " Enter 2 for Balance Enquiry \n",
      " Enter 3 to Quit \n",
      " Enter 4 to Deposit\n",
      "Enter the number corresponding to the activity you want to do: 3\n",
      "what do you want to do\n",
      " Enter 1 to Widthdraw Cash \n",
      " Enter 2 for Balance Enquiry \n",
      " Enter 3 to Quit \n",
      " Enter 4 to Deposit\n"
     ]
    }
   ],
   "source": [
    "user = {\n",
    "    'pin': 1234,\n",
    "    'balance':1000\n",
    "}\n",
    "\n",
    "def Deposit():\n",
    "    while True:\n",
    "        New_Deposit = int(input(\"Enter the amount of money you want to Deposit\"))\n",
    "        user[\"balance\"] = user[\"balance\"] + New_Deposit\n",
    "        print(f\"{New_Deposit} Dollars successfully Deposit your new balance is {user['balance']} Dollars\")\n",
    "        print('')\n",
    "        return False\n",
    "\n",
    "\n",
    "\n",
    "def widthdraw():\n",
    "    while True:\n",
    "        amount = int(input(\"Enter the amount of money you want to WIDTHDRAW: \"))\n",
    "        if amount > user['balance']:\n",
    "            print(\"Insufficient balance!0\")\n",
    "        else:\n",
    "            user['balance'] = user['balance'] - amount\n",
    "            print(f\"{amount} Dollars successfully widthdrawn your remaining balance is {user['balance']} Dollars\")\n",
    "            print('')\n",
    "            return False\n",
    "\n",
    "def Check_Balance():\n",
    "    print(f\"Total balance {user['balance']} Dollars\")\n",
    "    print('')\n",
    "is_quit = False\n",
    "\n",
    "print('')\n",
    "print(\"Welcome to the Ailead ATM\")\n",
    "\n",
    "pin = int(input('Please enter your four digit pin: '))\n",
    "\n",
    "if pin == user['pin']:\n",
    "    while is_quit == False:\n",
    "        print(\"what do you want to do\")\n",
    "        print(\" Enter 1 to Widthdraw Cash \\n Enter 2 for Balance Enquiry \\n Enter 3 to Quit \\n Enter 4 to Deposit\")\n",
    "\n",
    "        query = int(input(\"Enter the number corresponding to the activity you want to do: \"))\n",
    "\n",
    "        if query == 1:\n",
    "            widthdraw()\n",
    "        elif query == 2:\n",
    "            Check_Balance()\n",
    "        elif query == 3:\n",
    "            EXIT = True\n",
    "        elif query == 4:\n",
    "            Deposit()\n",
    "\n",
    "        else:\n",
    "            print(\"Please enter a correct value shown\")\n",
    "else:\n",
    "    print(\"Entered wrong pin\")\n"
   ]
  },
  {
   "cell_type": "code",
   "execution_count": null,
   "id": "47b514b2",
   "metadata": {},
   "outputs": [],
   "source": []
  }
 ],
 "metadata": {
  "kernelspec": {
   "display_name": "Python 3 (ipykernel)",
   "language": "python",
   "name": "python3"
  },
  "language_info": {
   "codemirror_mode": {
    "name": "ipython",
    "version": 3
   },
   "file_extension": ".py",
   "mimetype": "text/x-python",
   "name": "python",
   "nbconvert_exporter": "python",
   "pygments_lexer": "ipython3",
   "version": "3.9.12"
  }
 },
 "nbformat": 4,
 "nbformat_minor": 5
}
